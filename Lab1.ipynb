{
  "cells": [
    {
      "cell_type": "markdown",
      "metadata": {
        "cell_id": "097fce6dce21405c911254a775ae3d26",
        "deepnote_cell_type": "markdown",
        "id": "J4_IcuuKZj9Y"
      },
      "source": [
        "<h1><center>Laboratorio 1: Git 👾</center></h1>\n",
        "\n",
        "<center><strong>MDS7202: Laboratorio de Programación Científica para Ciencia de Datos - Primavera 2023</strong></center>"
      ]
    },
    {
      "cell_type": "markdown",
      "metadata": {
        "cell_id": "9e8e8f2ae34e461da4f44508a96d2cf4",
        "deepnote_cell_type": "markdown",
        "id": "AEXIACc7aADv"
      },
      "source": [
        "### Cuerpo Docente:\n",
        "\n",
        "- Profesores: Ignacio Meza, Gabriel Iturra\n",
        "- Auxiliar: Sebastián Tinoco\n",
        "- Ayudante: Arturo Lazcano, Angelo Muñoz"
      ]
    },
    {
      "cell_type": "markdown",
      "metadata": {
        "cell_id": "3e5b48c23e1b48f6a64de41899166179",
        "deepnote_cell_type": "markdown",
        "id": "0HgMMyoCaG8X"
      },
      "source": [
        "### Equipo:\n",
        "\n",
        "- Nombre de alumno 1: Carla Guzman R.\n",
        "- Nombre de alumno 2: Paola Silva M."
      ]
    },
    {
      "cell_type": "markdown",
      "metadata": {
        "cell_id": "1db7c82b68614d19b112ba3b0d0abe4d",
        "deepnote_cell_type": "markdown",
        "id": "fz77X6glaK6y"
      },
      "source": [
        "### **Link de repositorio de GitHub:** `...`\n",
        "\n",
        "*   https://github.com/Paito249/MDS7202\n",
        "\n",
        "\n"
      ]
    },
    {
      "cell_type": "markdown",
      "metadata": {
        "cell_id": "bc3dac65089d4ae6a43c079547dee179",
        "deepnote_cell_type": "markdown",
        "id": "rRwqaxIZaNx3"
      },
      "source": [
        "## Reglas:\n",
        "\n",
        "- Fecha de entrega: 6 días desde la publicación, 3 días de atraso con 1 punto de descuento c/u. Pueden utilizar días bonus sin descuento.\n",
        "- **Grupos de 2 personas**\n",
        "- Asistencia **obligatoria** a instrucciones del lab (viernes 16.15). Luego, pueden quedarse trabajando en las salas o irse.\n",
        "- **Ausentes tienen nota máxima 6.0**.  \n",
        "- Cualquier duda fuera del horario de clases al foro. Mensajes al equipo docente serán respondidos por este medio.\n",
        "- <u>Prohibidas las copias</u>. Cualquier intento de copia será debidamente penalizado con el reglamento de la escuela.\n",
        "- Pueden usar cualquer material del curso que estimen conveniente.\n",
        "- Asistencia obligatoria a instrucciones del lab (viernes 16.15). Luego, pueden quedarse trabajando en las salas o irse."
      ]
    },
    {
      "cell_type": "markdown",
      "metadata": {
        "cell_id": "05e4729411a24153837fd13b7f198bd9",
        "deepnote_cell_type": "markdown",
        "id": "bmToL27JaSrf"
      },
      "source": [
        "## Objetivos del lab:\n",
        "\n",
        "\n",
        "- Conocer los elementos básicos que conformar `Git`\n",
        "- Clonar repositorios\n",
        "- Identificar ramas de un repositorio\n",
        "- Reconocer y solucionar problemas entre ramas\n",
        "- Subir cambios a un repositorio"
      ]
    },
    {
      "cell_type": "markdown",
      "metadata": {
        "cell_id": "5ebae9d601bd4d508349ab55297e9f82",
        "deepnote_cell_type": "markdown",
        "id": "bvnPCvrVbJLK"
      },
      "source": [
        "## Parte 1: Conocimiento Teórico (2.5 pts)\n",
        "\n",
        "<p align=\"center\">\n",
        "  <img src=\"https://cdn.thedesigninspiration.com/wp-content/uploads/sites/3/2019/04/macintosh-hdusersbrittanyloefflerdownloadsanig-1.gif\" width=\"350\">\n",
        "</p>"
      ]
    },
    {
      "cell_type": "markdown",
      "metadata": {
        "cell_id": "627494dba4f84520b3ee8b9cbf58ee79",
        "deepnote_cell_type": "markdown",
        "id": "JHl-24XnbNLF"
      },
      "source": [
        "Responda las siguientes preguntas (0.2 pts c/u):\n",
        "\n",
        "1. ¿Qué es `Git` y cómo se relaciona con el control de versiones?\n",
        "\n",
        "2. Nombre y explique 3 diferencias entre `Git` y `Github`.\n",
        "\n",
        "3. ¿Qué es un `hash` y cómo se representa en un `commit`? De un ejemplo.\n",
        "\n",
        "4. ¿Que elementos componen a la estructura de datos de `Git`?\n",
        "\n",
        "5. ¿Que comandos de `Git` sirven para crear un repositorio y hacer seguimiento a cambios en los archivos?"
      ]
    },
    {
      "cell_type": "markdown",
      "metadata": {
        "cell_id": "6d06c40f429044a298b27c666f51f46f",
        "deepnote_cell_type": "markdown",
        "id": "2tXCSkf0caG8"
      },
      "source": [
        "###Respuestas\n",
        "\n",
        "1. Git es una herramienta usada para el desarrollo de software y colaboración. Este software pone a disposición una gama de funciones, entre ellas, la que apunta al control de versiones. Git contiene un historial de respaldo donde se almacenan todas las versiones de los documentos. También permite versiones, identificando todos los cambios que hay entre versiones.\n",
        "\n",
        "2. Algunas diferencias entre Git y Github son:\n",
        "\n",
        "\n",
        "*   Naturaleza y definición:\n",
        "Git es un sistema de control de versiones distribuídas, en cambio Github es un sistema de alojamiento basado en web, que usa Git a su favor, además de proporcionar features extras.\n",
        "\n",
        "*   Interacción con el usuario: Git es una herramienta de línea de comandos, no muy amigable con el usuario. Por lo general es difícil de entender por lo que se tienden a aprender de memoria los comandos. Por otro lado, Github pone a disposición una interfaz gráfica.\n",
        "\n",
        "*   Funcionamiento: Git es un software de seguimiento de versiones que funciona de manera local, en cambio Github permite además almacenamiento en línea, además de agregar features e interfaz gráfica, lo que facilita la colaboración.\n",
        "\n",
        "\n",
        "3. Un hash es una cadena de caractéres única que identifica a un objeto (blob, commit o árbol) en Git. Hablando particularmente de Git y Github, se utiliza SHA1, que es una cadena alfanumérica de 40 caracteres hexadecimales. Este valor se calcula matemáticamente, por lo que cada cambio que haya en el objeto, ya sea en los contenidos o metadatos, resultará en un hash completamente distinto. Por otro lado, los commit guardan la información referente a los cambios entre cada versión, por lo que cada commit tendrá un valor hash (SHA) único. Los valores SHA de cada commit se pueden encontrar en la lista de commit, como se muestra en la siguiente figura:\n",
        "\n",
        "![](https://drive.google.com/uc?id=1Pi6ekH7Q1K33oP0bTUg9XtPQyWuNpaYv)\n",
        "\n",
        "\n",
        "\n",
        "Se observa que en el símbolo de \"copiar\" se puede copiar al portapapeles el SHA de un commit. El SHA del ejemplo es:\n",
        "\n",
        "<code>b1962e0f68fc6d239d85217243a6763af639b4dc\n",
        "\n",
        "4. La estructura de datos básica de Git se compone de:\n",
        "\n",
        "*   **Blob**: Almacena todo el contenido de un archivo. Cuando se guarda una nueva versión del archivo esta se almacena en un nuevo blob.\n",
        "*   **Tree**: Representan directorios para blobs u otro árboles.\n",
        "*   **Commit**: Los commit guardan la información referente a los cambios entre una versión y otra.\n",
        "*   **Branches**: Permite trabajar en un ambiente distinto al del código principal. Al crear una branche se replican todos los elementos de la rama de donde nació. Los commits que se hagan dentro de una branch quedan en ese ambiente. Para unirlo a al código principal seusa merge.\n",
        "\n",
        "5. Se listan a continuación los comandos pedidos:\n",
        "\n",
        "*   **git init nombre-repositorio**: inicia un repositorio nuevo.\n",
        "*   **git clone /ruta/al/repo.git**: copia un repositorio desde algún servidor.\n",
        "*   **git add**: pasa un archivo desde el working directory a la staging area.\n",
        "*   **git commit -m \"Mi mensaje aquí\"**: envía los archivos en la staging area al repositorio final, por lo que pasan a ser \"unmodified\". Se puede añadir un comentario con -m \"mensaje\".\n",
        "*   **git diff**: entrega una visualización de las diferencias entre conjuntos de archivos en el repositorio.\n",
        "*   **git log**: permite observar la estructura de cambios de un commit, incluyendo el comentario.\n",
        "\n",
        "\n",
        "\n",
        "\n",
        "\n",
        "\n",
        "\n",
        "\n",
        "\n",
        "\n",
        "\n"
      ]
    },
    {
      "cell_type": "markdown",
      "metadata": {
        "cell_id": "ec9855406e324cc98b59e33500faea84",
        "deepnote_cell_type": "markdown",
        "id": "MACccbP4gU43"
      },
      "source": [
        "Responda si las siguientes afirmaciones son Verdaderas (V) o Falsas (F). Justifique en **cualquiera** de los casos (0.2 pts c/u):\n",
        "\n",
        "\n",
        "6. `Git` siempre resuelve automáticamente los problemas de lineas al hacer merge entre diferentes ramas.\n",
        "7. Ejecutar `git pull` sobre un repositorio es equivalente a ejecutar `git clone`.\n",
        "8. `git status` genera los mismos resultados que `git log`.\n",
        "9. En `Git` es posible deshacer cambios y volver a versiones anteriores del código.\n",
        "10. El comando `git commit` se utiliza para enviar cambios al repositorio remoto."
      ]
    },
    {
      "cell_type": "markdown",
      "metadata": {
        "cell_id": "7e6a5a6e15b045cc9d104cf017825f1a",
        "deepnote_cell_type": "markdown",
        "id": "DFnmCToOgeM3"
      },
      "source": [
        "6. **Falso**. Git puede identificar los problemas de lineas, pero se deben resolver manualmente.\n",
        "7. **Falso**. git pull es para traer las actualizaciones remotas de un repositorio a un ambiente local, en cambio git clone es para copiar el repositorio remoto completo a una máquina local.\n",
        "8. **Falso**. git status entrega el estado actual del repositorio desde el último commit, entregando información respecto a cuales archivos han sido modificados, agregados o eliminados, y también muestra si hay archivos en el staging area listo para ser confirmados (commit), git log por otro lado entrega información de todo el historial de commits en orden inverso (el más reciente arriba), con detalles incluidos.\n",
        "9. **Verdadero**. A partir del historial de commit y con los hash se puede acceder a las versiones anteriores y recuperarlas. Esta es una característica fundamental de Git.\n",
        "10. **Falso**. Para enviar cambios al repositorio remoto se usa git push. Por otro lado commit agrega al historial de cambios alguna nueva versión."
      ]
    },
    {
      "cell_type": "markdown",
      "metadata": {
        "cell_id": "54317cad024744ebaf4938df55ba3b95",
        "deepnote_cell_type": "markdown",
        "id": "8LczpYUtuFdi"
      },
      "source": [
        "Por último, investigue y comente para qué sirven los siguientes comandos:\n",
        "\n",
        "11. `git stash` (0.25 puntos)\n",
        "\n",
        "Este comando sirve para guardar en una memoria temporal los cambios sin tener que confirmarlos en un commit. Sirve para hacer cambios y poder trabajar en distintas partes de código sin cambiar los guardado en el stash.\n",
        "\n",
        "\n",
        "12. `git reset`. ¿Cuál es la diferencia de este comando con `git revert`?. (0.25 puntos)\n",
        "\n",
        "git reset vuelve a una versión de un commit anterior, eliminando todos los commits posteriores al escogido, en cambio git revert crea un nuevo commit que revierte los cambios para recuperar un commit anterior (sin perder la información de los commits posteriores al escogido)."
      ]
    },
    {
      "cell_type": "markdown",
      "metadata": {
        "cell_id": "3e4d8b9974e4426ca38fd20f4b835a55",
        "deepnote_cell_type": "markdown",
        "id": "i7Em9JkbbRLo"
      },
      "source": [
        "## Parte 2: Creando una presentación personal (1.5 pts)\n",
        "\n",
        "<p align=\"center\">\n",
        "  <img src=\"https://media.tenor.com/arqlNu8gyJYAAAAC/cat-cat-jumping.gif\" width=\"150\">\n",
        "</p>\n",
        "\n"
      ]
    },
    {
      "cell_type": "markdown",
      "metadata": {
        "cell_id": "988648005dba4b9782c6625dfe6ae4ef",
        "deepnote_cell_type": "markdown",
        "id": "XWIHfyrlbYOJ"
      },
      "source": [
        "Para empezar a \"*soltar las manos*\" con `Git`, se les encomienda crear un repositorio con una presentación personal. El repositorio debe contener un breve resumen de quienes son ustedes, sus gustos, experiencias, y cualquier otro detalle interesante que ustedes consideren relevante.\n",
        "\n",
        "Para realizar esto, deben seguir los siguientes pasos:\n",
        "\n",
        "1. Contar con una cuenta de github (1 por persona)\n",
        "2. Crear un repositorio con su nombre de usuario\n",
        "3. Vincular el repositorio a su ambiente local ¿Qué comando(s) me permiten hacer esto?\n",
        "\n",
        "$ git init   \n",
        "\n",
        "$ git remote add origin <URL>\n",
        "\n",
        "\n",
        "4. Crear un archivo `readme.md` con la información que ustedes deseen compartir.\n",
        "5. Realizar `push` con los cambios generados\n",
        "\n",
        "A modo de ejemplo, pueden guiarse por esta *suculenta* [presentación](https://github.com/Mezosky)\n",
        "\n",
        "**Nota: Deben trabajar todos estos puntos desde su ambiente local**\n",
        "\n",
        "*Hint: Una buena opción es usar templates de presentación personal que encuentren en Google, como los que ofrece este [sitio](https://durgeshsamariya.github.io/awesome-github-profile-readme-templates/#/)*.\n",
        "\n",
        "**Entregable:**\n",
        "\n",
        "Enlace al repositorio con la presentación personal.\n",
        "\n",
        "IMPORTANTE: DEBEN ADJUNTAR UN ENLACE POR PERSONA"
      ]
    },
    {
      "cell_type": "markdown",
      "metadata": {
        "cell_id": "081b38d55dc54282bc8e3cd300ce9d3e",
        "deepnote_cell_type": "markdown",
        "id": "IIkWyl9tf0Sg"
      },
      "source": [
        "<code>Link Presentacion 1: https://github.com/CarlaGuzmanR</code>\n",
        "\n",
        "<code>Link Presentacion 2: https://github.com/Paito249</code>"
      ]
    },
    {
      "cell_type": "markdown",
      "metadata": {
        "cell_id": "0481a05d2d1a46928f6cfb7762720980",
        "deepnote_cell_type": "markdown",
        "id": "CAzXOwvDY-IG"
      },
      "source": [
        "## Parte 3: Trabajando sobre un repositorio externo (2 pts)\n",
        "\n",
        "<p align=\"center\">\n",
        "  <img src=\"https://media.tenor.com/YXL-0SK15j4AAAAC/dance-animals.gif\" width=\"300\">\n",
        "</p>\n",
        "\n",
        "Tras muchos dolores de cabeza, un grupo de entusiastas académicos decidieron aprender sobre `Git` y así trabajar colaborativamente de forma más ordenada y eficiente. Después de una infinidad de intentos y aprender de sus errores \"*a la mala*\", los académicos lograron levantar un [repositorio](https://github.com/MDS7202/lab1) en `Github`. Usando el repositorio de los académicos, responda las siguientes preguntas (**incluya también los comandos en `Git` ocupados**):\n"
      ]
    },
    {
      "cell_type": "markdown",
      "metadata": {
        "cell_id": "bcef73b2e8604579bde90ed6622abfe9",
        "deepnote_cell_type": "markdown",
        "id": "BFRnAw0rfguR"
      },
      "source": [
        "1. Clone el repositorio a su ambiente local. (0.25 pts)"
      ]
    },
    {
      "cell_type": "markdown",
      "metadata": {
        "cell_id": "5d126ac3819c44479af94d3895bc4c97",
        "deepnote_cell_type": "markdown",
        "id": "KXro32yBeilN"
      },
      "source": [
        "\n",
        "git clone https://github.com/MDS7202/lab1.git"
      ]
    },
    {
      "cell_type": "markdown",
      "metadata": {
        "cell_id": "e215e4e25b2440f09ac273ba63603986",
        "deepnote_cell_type": "markdown",
        "id": "nJLweSc6uFdj"
      },
      "source": [
        "2. Descomprima los archivos subidos con la tarea en U-cursos en la carpeta recién clonada de github. Una vez realizado esto, cree un archivo `.gitignore` con el cual omita la carpeta `videos` y los archivos con la extensión `.txt` exceptuando el archivo `171.txt` de la carpeta `texts`. (0.25 pts)"
      ]
    },
    {
      "cell_type": "markdown",
      "metadata": {
        "cell_id": "186233b44d004e3bbd86262d010188b5",
        "deepnote_cell_type": "markdown",
        "id": "fNguAY_muFdj"
      },
      "source": [
        "<code>Para esta pregunta usted deberá adjuntar el .gitignore creado en su repo.</code>"
      ]
    },
    {
      "cell_type": "markdown",
      "metadata": {
        "cell_id": "1de150590a41484a988b8e46616a2324",
        "deepnote_cell_type": "markdown",
        "id": "q2qmiDyjt2M_"
      },
      "source": [
        "3. Inspeccione brevemente el repositorio: ¿Cual es el objetivo del proyecto? Explique brevemente la estructura del proyecto, asi como también cada elemento que lo conforma. (0.25 pts)"
      ]
    },
    {
      "cell_type": "markdown",
      "metadata": {
        "cell_id": "082ca01c865e48e28352b280400c47b6",
        "deepnote_cell_type": "markdown",
        "id": "aBHpR8VTftkT"
      },
      "source": [
        "El objetivo es crear un programa interactivo que indique los sonidos que hacen los animales dentro de una lista determinada.\n",
        "\n",
        "El archivo main.py contiene la función principal que invoca a la función animales.\n",
        "\n",
        "animales.py contiene la función como tal que entrega el resultado dependiendo del animal.\n",
        "\n",
        "En cuanto a la estructura, en el proyecto hay 3 ramas distintas \"main\", \"fix ifs\" y \"new features\". La rama principal de trabajo es la rama \"main\". La rama \"fix ifs\" comienza desde una versión anterior al último commit de la rama \"main\". La rama \"new features\" parte una vez que se han separado los módulos.\n",
        "\n",
        "\n"
      ]
    },
    {
      "cell_type": "markdown",
      "metadata": {
        "cell_id": "3aab4a3ee0c246e1be955680ad653fb8",
        "deepnote_cell_type": "markdown",
        "id": "XFwqcpLZfylf"
      },
      "source": [
        "4. Identifique los últimos cambios al repositorio, reconociendo las principales ramas de trabajo. ¿Son informativos los `commit` realizados? (0.25 pts)\n",
        "*Hint: Se recomienda usar los argumentos `all`, `graph` y `decorate`*"
      ]
    },
    {
      "cell_type": "markdown",
      "metadata": {
        "cell_id": "0fab79a360ac4c6a9ca0ab884f85c7e1",
        "deepnote_cell_type": "markdown",
        "id": "cmWfXBkOhog0"
      },
      "source": [
        "Los últimos cambios hechos en cada rama son:\n",
        "\n",
        "\n",
        "*   main: se separan las funciones en 2 módulos.\n",
        "*   fix ifs: se repara el error cometido en la función animales.\n",
        "*   new features:se crea la rama a partir de la última versión de main, probablemente para no modificar la versión de main antes de confirmar que funciona bien lo que se agregará.\n",
        "\n",
        "Además, main es la principal rama de trabajo.\n"
      ]
    },
    {
      "cell_type": "markdown",
      "metadata": {
        "cell_id": "d07b24d21f2343fb9a7e6a5db74e98c3",
        "deepnote_cell_type": "markdown",
        "id": "Vqbj9HdXrUnN"
      },
      "source": [
        "5. Uno de los académicos se da cuenta que la rama principal de trabajo no se ejecuta correctamente para todos los argumentos. Señale y explique el error en el código e identifique a la persona que lo cometió usando `git blame` (0.25 pts)\n",
        "\n",
        "*Hint: Le puede ser útil esta [documentación](https://www.atlassian.com/es/git/tutorials/inspecting-a-repository/git-blame).*"
      ]
    },
    {
      "cell_type": "markdown",
      "metadata": {
        "cell_id": "bc5b0f9c639643108f8e66687b721732",
        "deepnote_cell_type": "markdown",
        "id": "5ajhV2Iar3tV"
      },
      "source": [
        "El error en el código es que se ejecutarán todos los if de forma independiente. Cuando se usa elif se ejecuta sólo el que calce con la condición. Quien cometió el error fue \"sebatinoco\"."
      ]
    },
    {
      "cell_type": "markdown",
      "metadata": {
        "cell_id": "f3f4e78e6d9145ebbb120c0a2e4aade6",
        "deepnote_cell_type": "markdown",
        "id": "m8J3uE7MhqTA"
      },
      "source": [
        "6. Busque los siguientes `commit`:\n",
        "\n",
        "- `c8b1a62d7299552b0654f930d695b33109214111`\n",
        "- `362fe21ee44f53ee944cee4ba484600308f83d78`\n",
        "- `25543a3baf77292baf849726784ca005473acab1`\n",
        "\n",
        "¿Qué diferencias existen entre cada uno? (0.25 pts)"
      ]
    },
    {
      "cell_type": "markdown",
      "metadata": {
        "cell_id": "696ed361ac0c41c8a214cfad9dcb39e6",
        "deepnote_cell_type": "markdown",
        "id": "sNHnZsgIitGh"
      },
      "source": [
        "\n",
        "\n",
        "*   El commit correspondiente al hash c8b1a62d7299552b0654f930d695b33109214111 es el que lleva como comentario \"se agrega funcion\".\n",
        "*   El correspondiente al hash 362fe21ee44f53ee944cee4ba484600308f83d78 corresponde al commit con el comentario \"Se separa el proyecto en modulos\".\n",
        "*   El último commit se encuentra en un branch distinto al main, y corresponde al commit con el comentario \"fix ifs\".\n",
        "\n",
        "La diferencias escenciales entre ellos es que en el commit \"se agrega funcion\" se añade la función animales dentro del mismo script main.py, al hacer el commit \"Se separa el proyecto en modulos\" se crea un nuevo script en el que se separa la función main de la función animales, en 2 scripts. Finalmente el último commit consultado se encuentra en un branch nuevo, hecho a partir de una versión anterior, en específico, desde el commit \"se agrega función\".\n",
        "\n"
      ]
    },
    {
      "cell_type": "markdown",
      "metadata": {
        "cell_id": "b4e18f8ce94c430f85915c4e2732d05b",
        "deepnote_cell_type": "markdown",
        "id": "WQIPbfNCgpxC"
      },
      "source": [
        "7. Realice una `merge` de la rama `fix-ifs` con la rama `main` y describa lo que ocurre. ¿Qué parte del código podría estar ocasionando esto? (0.25 pts)"
      ]
    },
    {
      "cell_type": "markdown",
      "metadata": {
        "cell_id": "36da6a0d4f4a427bbccac09e2ae965fd",
        "deepnote_cell_type": "markdown",
        "id": "ypH_6lL5ioZz"
      },
      "source": [
        "![image.png](data:image/png;base64,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)\n",
        "\n",
        "La parte del código que ocasiona este mensaje podría ser la que separa el módulo main del módulo animales, ya que se tienen distintos archivos en cada rama."
      ]
    },
    {
      "cell_type": "markdown",
      "metadata": {
        "cell_id": "09787ab449c543479e5cc54c2a3b6c19",
        "deepnote_cell_type": "markdown",
        "id": "GYfODCjeivkU"
      },
      "source": [
        "8. Cree una rama nueva y proponga una solución al problema anterior, adjuntando el código corregido y señalando las líneas modificadas. (0.25 pts)"
      ]
    },
    {
      "cell_type": "markdown",
      "metadata": {
        "cell_id": "6d963fba3f2d4c17a4b281c7d3f4fb8b",
        "deepnote_cell_type": "markdown",
        "id": "8heBxDU9iziT"
      },
      "source": [
        "La idea es crear una nueva rama a partir de un commit anterior de main, y luego hacer el merge entre esa rama, y fix ifs.\n",
        "\n",
        "Para crear una nueva rama se usa git checkout -b nueva_rama c8b1a62d7299552b0654f930d695b33109214111, con esto se crea una nueva rama a partir del commit anterior en main. Con la nueva rama creada, se usa git merge remote/origin/fix-ifs, con esto se ejecutan los cambios al código. Finalmente el código queda:\n",
        "\n",
        "![image.png](data:image/png;base64,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)\n",
        "\n",
        "Las líneas modificadas son las que tienen elif, antes tenían if."
      ]
    },
    {
      "cell_type": "markdown",
      "metadata": {
        "cell_id": "8a47d4bf8b3045d68e4f29bb449c87f1",
        "deepnote_cell_type": "markdown",
        "id": "Av8ebB9jkALO"
      },
      "source": [
        "## Fin"
      ]
    },
    {
      "cell_type": "markdown",
      "metadata": {
        "cell_id": "cec4b53942ed489f8f8b63d0e9d4f3e5",
        "deepnote_cell_type": "markdown",
        "id": "aQqZT9fSkBK8"
      },
      "source": [
        "Eso ha sido todo por ahora!! Esperamos que este laboratorio les haya gustado y servido para trabajar con `Git`. Recuerden los dias de plazo que tienen disponibles y que ante cualquier duda no duden en contactar al equipo docente.\n",
        "\n",
        "Nos vemos!!\n",
        "\n",
        "<p align=\"center\">\n",
        "  <img src=\"https://media.tenor.com/OYLdav9k9LkAAAAd/kitty-cat.gif\" width=\"350\">\n",
        "</p>\n"
      ]
    },
    {
      "cell_type": "markdown",
      "metadata": {
        "created_in_deepnote_cell": true,
        "deepnote_cell_type": "markdown",
        "id": "7o_9TN4IuFdk"
      },
      "source": [
        "<a style='text-decoration:none;line-height:16px;display:flex;color:#5B5B62;padding:10px;justify-content:end;' href='https://deepnote.com?utm_source=created-in-deepnote-cell&projectId=87110296-876e-426f-b91d-aaf681223468' target=\"_blank\">\n",
        "<img alt='Created in deepnote.com' style='display:inline;max-height:16px;margin:0px;margin-right:7.5px;' src='data:image/svg+xml;base64,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' > </img>\n",
        "Created in <span style='font-weight:600;margin-left:4px;'>Deepnote</span></a>"
      ]
    }
  ],
  "metadata": {
    "colab": {
      "provenance": []
    },
    "deepnote": {},
    "deepnote_execution_queue": [],
    "deepnote_notebook_id": "62cd20d52b9a4810ada15644630456dc",
    "kernelspec": {
      "display_name": "Python 3",
      "name": "python3"
    },
    "language_info": {
      "name": "python"
    }
  },
  "nbformat": 4,
  "nbformat_minor": 0
}