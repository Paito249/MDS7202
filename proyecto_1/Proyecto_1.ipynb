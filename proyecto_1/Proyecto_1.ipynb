{
  "cells": [
    {
      "cell_type": "markdown",
      "metadata": {
        "id": "AMeRZJoTS_Kp"
      },
      "source": [
        "![](https://www.dii.uchile.cl/wp-content/uploads/2021/06/Magi%CC%81ster-en-Ciencia-de-Datos.png)"
      ]
    },
    {
      "cell_type": "markdown",
      "metadata": {
        "id": "MkH4zeXOS_Ks"
      },
      "source": [
        "# **Proyecto 1 - MDS7202 Laboratorio de Programación Científica para Ciencia de Datos 📚**\n",
        "\n",
        "**MDS7202: Laboratorio de Programación Científica para Ciencia de Datos**\n",
        "\n",
        "### Cuerpo Docente:\n",
        "\n",
        "- Profesor: Ignacio Meza, Gabriel Iturra\n",
        "- Auxiliar: Sebastián Tinoco\n",
        "- Ayudante: Arturo Lazcano, Angelo Muñoz\n",
        "\n",
        "*Por favor, lean detalladamente las instrucciones de la tarea antes de empezar a escribir.*\n",
        "\n",
        "### Equipo:\n",
        "\n",
        "- Carla Guzmán\n",
        "- Paola Silva\n",
        "\n",
        "### Link de repositorio de GitHub: `\\<https://github.com/Paito249/MDS7202>`\n",
        "\n",
        "Fecha límite de entrega 📆: 27 de Octubre de 2023."
      ]
    },
    {
      "cell_type": "markdown",
      "metadata": {
        "id": "UrgWqfaaS_Kt"
      },
      "source": [
        "----\n",
        "\n",
        "## Reglas\n",
        "\n",
        "- **Grupos de 2 personas.**\n",
        "- Cualquier duda fuera del horario de clases al foro. Mensajes al equipo docente serán respondidos por este medio.\n",
        "- Estrictamente prohibida la copia.\n",
        "- Pueden usar cualquier material del curso que estimen conveniente."
      ]
    },
    {
      "cell_type": "markdown",
      "metadata": {
        "id": "kECSYXvhS_Ku"
      },
      "source": [
        "<div style=\"text-align: center;\">\n",
        "    <img src=\"https://worldskateamerica.org/wp-content/uploads/2023/07/SANTIAGO-2023-1-768x153.jpg\" alt=\"Descripción de la imagen\">\n",
        "</div>\n",
        "\n",
        "En un Chile azotado por un profundo caos político-económico y el resurgimiento de programas de televisión de dudosa calidad, todas las miradas y esperanzas son depositadas en el éxito de un único evento: Santiago 2023. La nación necesitaba desesperadamente un respiro, y los Juegos de Santiago 2023 prometían ser una luz al final del túnel.\n",
        "\n",
        "El Presidente de la República -conocido en las calles como Bombín-, consciente de la importancia de este evento para la revitalización del país, decide convocar a usted y su equipo en calidad de expertos en análisis de datos y estadísticas. Con gran solemnidad, el presidente les encomienda una importante y peligrosa: liderar un proyecto que permitiera caracterizar de forma automática y eficiente los datos generados por estos magnos juegos. Para esto, el presidente le destaca que la solución debe considerar los siguientes puntos:\n",
        "- Caracterización automática de los datos\n",
        "- La solución debe ser compatible con cualquier dataset\n",
        "- Se les facilita el dataset *olimpiadas.parquet*, el cual recopila data de diferentes juegos olímpicos realizados en los últimos años"
      ]
    },
    {
      "cell_type": "markdown",
      "metadata": {
        "id": "ZlMFh49mS_Ku"
      },
      "source": [
        "## 1.1 Creación de `Profiler` Class (4.0 puntos)\n",
        "\n",
        "Cree la clase `Profiler`. Como mínimo, esta debe tener las siguientes funcionalidades:\n",
        "\n",
        "1. El método constructor, el cual debe recibir los datos a procesar en formato `Pandas DataFrame`. Además, este método debe generar una carpeta en su directorio de trabajo con el nombre `EDA_fecha`, donde `fecha` corresponda a la fecha de ejecución en formato `DD-MM-YYYY`.\n",
        "\n",
        "2. El método `summarize`, el cual debe caracterizar las variables del Dataset. Como mínimo, se espera que su método pueda:\n",
        "    - Implementar una funcionalidad para filtrar y aplicar este método a una o más variables de interés.\n",
        "    - Reportar el tipo de variable\n",
        "    - Reportar el número y/o porcentaje de valores únicos de la variable\n",
        "    - Reportar el número y/o porcentaje de valores nulos\n",
        "    - Si la variables es numérica:\n",
        "        - Reportar el número y/o porcentaje de valores cero, negativos y outliers\n",
        "        - Reportar estadística descriptiva como el valor mínimo, máximo, promedio y los percentiles 25, 50, 75 y 100\n",
        "   - Levantar una alerta en caso de encontrar alguna anomalía fuera de lo común (el criterio debe ser ajustable por el usuario)\n",
        "   - Guardar sus resultados en el directorio `EDA_fecha/summary.txt`. El archivo debe separar de forma clara y ordenada los resultados de cada punto.\n",
        "\n",
        "3. El método `plot_vars`, el cual debe graficar la distribución e interraciones de las variables del Dataset. Como mínimo, se espera que su método pueda:\n",
        "    - Crear la carpeta `EDA_fecha/plots`\n",
        "    - Implementar una funcionalidad para filtrar y aplicar este método a una o más variables de interés.\n",
        "    - Para las variables numéricas:\n",
        "        - Genere un gráfico de distribución de densidad\n",
        "        - Grafique la correlación entre las variables\n",
        "    - Para las variables categóricas:\n",
        "        - Genere un histograma de las top N categorías (N debe ser un parámetro ajustable)\n",
        "        - Grafique el coeficiente V de Cramer entre las variables\n",
        "    - Guardar cada gráfico generado en la carpeta `EDA_fecha/plots` en formato `.pdf` y bajo el naming `variable.pdf`, donde `variable` es el nombre de la variable de interés\n",
        "    \n",
        "4. El método `clean_data`, el cual debe limpiar los datos para que luego puedan ser procesados. Como mínimo, se espera que su método pueda:\n",
        "    - Crear la carpeta `EDA_fecha/clean_data`\n",
        "    - Implementar una funcionalidad para filtrar y aplicar este método a una o más variables de interés.\n",
        "    - Drop de valores duplicados\n",
        "    - Implementar como mínimo 2 técnicas para tratar los valores nulos, como:\n",
        "        - Drop de valores nulos\n",
        "        - Imputar valores nulos con alguna técnica de imputación\n",
        "        - Funcionalidad para escoger entre una técnica y la otra.\n",
        "    - Una de las columnas del dataframe presenta datos *no atómicos*. Separe dicha columna en las columnas que la compongan.\n",
        "        - Hint: ¿Qué caracteres permiten separar una columna de otra?\n",
        "        - Para las pruebas con el dataset nuevo, puede esperar que exista al menos una columna con este tipo de problema. Asuma que los separadores serán los mismos, aunque el número de columnas a separar puede ser distinto.\n",
        "    - Deberían usar `FunctionTransformer`.\n",
        "    - Guardar los datos procesados en formato `.csv` en el path `EDA_fecha/clean_data/data.csv`\n",
        "\n",
        "5. El método `scale`, el cual debe preparar adecuadamente los datos para luego ser consumidos por algún tipo de algoritmo. Como mínimo, se espera que su método pueda:\n",
        "    - Crear la carpeta `EDA_fecha/scale`\n",
        "    - Procesar de forma adecuada los datos numéricos y categóricos:\n",
        "        - Su método debe recibir las técnicas de escalamiento como argumento de entrada (utilizar solo técnicas compatibles con el framework de `sklearn`)\n",
        "        - Para los atributos numéricos, se transforme los datos con un escalador logarítmico y un `MinMaxScaler`\n",
        "        - Asuma que no existen datos ordinales en su dataset\n",
        "    - Guardar todo este procesamiento en un `ColumnTransformer`.\n",
        "    - Guardar los datos limpios y transformados en formato `.csv` en el path `EDA_fecha/process/scaled_features.csv`\n",
        "\n",
        "6. El método `make_clusters`, el cual debe generar clusters de los datos usando algún algoritmo de clusterización. Como mínimo, se espera que su método pueda:\n",
        "    - Crear la carpeta `EDA_fecha/clusters`\n",
        "    - Generar un estudio del codo donde señale la cantidad de clusters optimos para el desarrollo.\n",
        "    - Su método debe recibir el algoritmo de clustering como argumento de entrada (utilizar solo algoritmos compatibles con el framework de `sklearn`).\n",
        "    - No olvide pre procesar adecuadamente los datos antes de implementar la técnica de clustering.\n",
        "    - En este punto es espera que generen un `Pipeline` de sklearn. Además, su método debería usar lo construido en los puntos 4 y 5.\n",
        "    - Su método debe ser capaz de funcionar a partir de datos crudos (se descontará puntaje de lo contrario).\n",
        "    - Una vez generado los clusters, proyecte los datos a 2 dimensiones usando su técnica de reducción de dimensionalidad favorita y grafique los resultados coloreando por cluster.\n",
        "    - Guardar los datos con su respectivo cluster en formato `.csv` en el path `EDA_fecha/clusters/data_clusters.csv`. Guarde también los gráficos generados en el mismo path.\n",
        "\n",
        "7. El método `detect_anomalies`, el cual debe detectar anomalías en los datos. Como mínimo, se espera que su método pueda:\n",
        "\n",
        "    - Crear la carpeta `EDA_fecha/anomalies`\n",
        "    - Implementar alguna técnica de detección de anomalías.\n",
        "    - Al igual que el punto anterior, su método debe considerar los siguientes puntos:\n",
        "        - No olvide pre procesar de forma adecuada los datos antes de implementar la técnica de detección de anomalía.\n",
        "        - En este punto es espera que generen un `Pipeline` de sklearn. Además, su método debería usar lo construido en los puntos 4 y 5.\n",
        "        - Su método debe ser capaz de funcionar a partir de datos crudos (se descontará puntaje de lo contrario).\n",
        "        - Su método debe recibir el algoritmo como argumento de entrada\n",
        "        - Una vez generado las etiquetas, proyecte los datos a 2 dimensiones y grafique los resultados coloreando por las etiquetas predichas por el detector de anomalías\n",
        "    - Guardar los datos con su respectiva etiqueta en formato `.csv` en el path `EDA_fecha/anomalies/data_anomalies.csv`. Guarde también los gráficos generados en el mismo path.\n",
        "\n",
        "8. El método `profile`, el cual debe ejecutar todos los métodos anteriores.\n",
        "\n",
        "9. Crear el método `clearGarbage` para eliminar las carpetas/archivos creados/as por la clase `Profiler`.\n",
        "\n",
        "Algunas consideraciones generales:\n",
        "- Su clase será testeada con datos tabulares diferentes a los provistos. No desarrollen código *hardcodeado*: su clase debe ser capaz de funcionar para **cualquier** dataset.\n",
        "- Aplique todo su conocimiento sobre buenas prácticas de programación: se evaluará que su código sea limpio y ordenado.\n",
        "- Recuerden documentar cada una de las funcionalidades que implementen.\n",
        "- Recuerden adjuntar sus `requirements.txt` junto a su entrega de proyecto. **El código que no se pueda ejecutar por imcompatibilidades de librerías no será corregido.**"
      ]
    },
    {
      "cell_type": "code",
      "execution_count": 1,
      "metadata": {},
      "outputs": [],
      "source": [
        "## Descomentar si se corre en colab\n",
        "#pip install plotly\n",
        "\n",
        "## Read me: Para correrlo en colab y que se crearan los pdfs de plot era necesario install kaleido y resetear el runtime\n",
        "#!pip install -U kaleido"
      ]
    },
    {
      "cell_type": "code",
      "execution_count": 2,
      "metadata": {
        "colab": {
          "base_uri": "https://localhost:8080/"
        },
        "id": "Tx1AasqLYrnN",
        "outputId": "e4bd7f7d-10bf-4ebb-da45-e10818c3264c"
      },
      "outputs": [],
      "source": [
        "import pandas as pd\n",
        "import datetime\n",
        "import os\n",
        "import plotly.io as pio\n",
        "import plotly.figure_factory as ff\n",
        "import plotly.express as px\n",
        "import warnings\n",
        "from sklearn.preprocessing import FunctionTransformer, MinMaxScaler, OneHotEncoder, LabelEncoder\n",
        "from sklearn.compose import ColumnTransformer\n",
        "from sklearn.pipeline import Pipeline\n",
        "from sklearn.manifold import TSNE\n",
        "from sklearn.cluster import KMeans\n",
        "from sklearn.ensemble import IsolationForest\n",
        "from scipy.stats.contingency import association\n",
        "import matplotlib.pyplot as plt\n",
        "import seaborn as sns\n",
        "import numpy as np\n",
        "import shutil\n",
        "\n",
        "# Ignora todas las advertencias (no se recomienda en producción)\n",
        "warnings.filterwarnings(\"ignore\")"
      ]
    },
    {
      "cell_type": "markdown",
      "metadata": {
        "id": "K42ICvI5JVpS"
      },
      "source": [
        "Carga de dataset"
      ]
    },
    {
      "cell_type": "code",
      "execution_count": 3,
      "metadata": {
        "colab": {
          "base_uri": "https://localhost:8080/"
        },
        "id": "mVdeu-BVCNoS",
        "outputId": "db708094-1c13-475c-db5b-049194b1ec82"
      },
      "outputs": [],
      "source": [
        "#!wget -O olimpiadas.parquet https://github.com/Paito249/MDS7202/raw/main/proyecto_1/olimpiadas.parquet ## descomentar si se corre en colab\n",
        "df = pd.read_parquet('olimpiadas.parquet')"
      ]
    },
    {
      "cell_type": "code",
      "execution_count": 4,
      "metadata": {
        "id": "Y9cjiiFRS_Kv"
      },
      "outputs": [],
      "source": [
        "# Función para dividir la columna en tres columnas separadas usando múltiples separadores\n",
        "def split_column(column):\n",
        "    separadores = ['!', '@', '#', '$', '%', '^', '&', '*', '(', ')', '-', '_', '+', '=', '[', ']', '{', '}', '|', '\\\\', ':', ';', '<', '>', ',', '?', '/']\n",
        "    patron = '|'.join(map(re.escape, separadores))\n",
        "    columnas_separadas = column.apply(lambda columna: re.split(patron, columna))\n",
        "    # Convierte las columnas resultantes a tipo numérico (si es posible)\n",
        "    columnas_separadas = columnas_separadas.apply(pd.to_numeric,errors='coerce')\n",
        "    nombres = re.split(patron,column.name)\n",
        "    return pd.DataFrame(columnas_separadas.to_list(), columns=[f'{nombres[i]}' for i in range(len(columnas_separadas.iloc[0]))])\n",
        "\n",
        "class Profiler():\n",
        "    def __init__(self, data):\n",
        "        # Se verifica formato Pandas DataFrame\n",
        "        if not isinstance(data, pd.DataFrame):\n",
        "            raise ValueError(\"No corresponde al formato Pandas DAtaframe\")\n",
        "        self.data = data\n",
        "        #fecha corresponda a la fecha de ejecución en formato DD-MM-YYYY\n",
        "        self.date = datetime.datetime.now().strftime(\"%d-%m-%Y\")\n",
        "        #Se crea carpeta en directorio de trabajo con el nombre EDA_fecha\n",
        "        self.folder_name = f\"EDA_{self.date}\"\n",
        "        if not os.path.exists(self.folder_name):\n",
        "            os.makedirs(self.folder_name)\n",
        "\n",
        "    def summarize(self, variable_nombre):\n",
        "      summary_file = os.path.join(self.folder_name, \"summary.txt\")\n",
        "      with open(summary_file, \"w\") as file:\n",
        "          file.write('')\n",
        "\n",
        "      for var in variable_nombre:\n",
        "        variable = self.data[var]\n",
        "        tipo_variable = variable.dtype\n",
        "\n",
        "        #nulos\n",
        "        nulos = variable.isna()\n",
        "        total_null = nulos.sum()\n",
        "        porcentaje_null=total_null/len(variable)\n",
        "\n",
        "        #unicos\n",
        "        unicos = variable.nunique()\n",
        "        porcentaje_unicos=unicos/len(variable)\n",
        "        respuesta = f\"Nombre: {var}\\nTipo: {tipo_variable}\\nNulos: {total_null} correspondiente a {porcentaje_null * 100}%\\nÚnicos: {unicos} correspondiente a {porcentaje_unicos*100}%\"\n",
        "\n",
        "        if pd.api.types.is_numeric_dtype(tipo_variable):\n",
        "            ceros = (variable == 0).sum()\n",
        "            negativos = (variable<0).sum()\n",
        "            respuesta+=f'\\nCeros: {ceros} \\nNegativos: {negativos}'\n",
        "            #Cuartiles\n",
        "            Q1 = variable.quantile(0.25)\n",
        "            Q2 = variable.quantile(0.50)\n",
        "            Q3 = variable.quantile(0.75)\n",
        "            Q4 = variable.quantile(1)\n",
        "            respuesta+=f'\\n25%: {Q1} \\n50%: {Q2} \\n75%: {Q3} \\n100%: {Q4}'\n",
        "            # IQR (rango intercuartil) de la columna\n",
        "            IQR = Q3 - Q1\n",
        "            # Límites inferior y superior para los outliers\n",
        "            limite_inf = Q1 - 1.5 * IQR\n",
        "            limite_sup = Q3 + 1.5 * IQR\n",
        "            # Cantidad Outliers\n",
        "            outliers = variable[(variable < limite_inf) | (variable> limite_sup)]\n",
        "            cantidad_de_outliers = len(outliers)\n",
        "            respuesta+=f'\\nCantidad outliers: {cantidad_de_outliers}\\n'\n",
        "            # Minimo, maximo y prom\n",
        "            min= variable.min()\n",
        "            max= variable.max()\n",
        "            prom= variable.mean()\n",
        "            respuesta+=f'Min: {min}\\nMax: {max}\\nPromedio: {prom}'\n",
        "\n",
        "            # if alert_criteria is not None:\n",
        "            #     if variable.apply(alert_criteria).any():\n",
        "            #         result_str += \"\\nALERTA: Se ha detectado una anomalía según el criterio proporcionado por el usuario.\"\n",
        "        with open(summary_file, \"a\") as file:\n",
        "          file.write(f'{respuesta}\\n\\n')\n",
        "      return respuesta\n",
        "\n",
        "    def plot_vars(self, variable_nombre, n):\n",
        "      subfolder_path = os.path.join(self.folder_name, 'plots')\n",
        "      if not os.path.exists(subfolder_path):\n",
        "          os.makedirs(subfolder_path)  # Crea la carpeta dentro de EDA_fecha\n",
        "      #Lista con variables numericas\n",
        "      variables_numericas = [var for var in variable_nombre if pd.api.types.is_numeric_dtype(self.data[var].dtype)]\n",
        "\n",
        "      #Se realiza matriz de correlación para las variables numericas\n",
        "      if variables_numericas:\n",
        "          corr_data = self.data[variables_numericas].corr()\n",
        "          fig =  px.imshow(corr_data,\n",
        "                            x=corr_data.columns,\n",
        "                            y=corr_data.columns,)\n",
        "          fig.update_layout(title='Matriz de Correlación de Variables Numéricas')\n",
        "          fig.show()\n",
        "          fig.write_image(f\"{subfolder_path}/correlation_matrix_numeric.pdf\", format=\"pdf\", engine=\"kaleido\")\n",
        "\n",
        "      #Grafica densidad por cada variable numerica\n",
        "      for var in variables_numericas:\n",
        "          fig = px.histogram(self.data[var], marginal=\"rug\", title=f'Distribución de Densidad de {var}')\n",
        "          fig.show()\n",
        "          fig.write_image(f\"{subfolder_path}/{var}.pdf\", format=\"pdf\", engine=\"kaleido\")\n",
        "\n",
        "      #Lista con variables categoricas\n",
        "      variables_categoricas = [vari for vari in variable_nombre if pd.api.types.is_object_dtype(self.data[vari].dtype)]\n",
        "      # print(variables_categoricas)\n",
        "      #Matriz coeficiente de cramer para variables categoricas\n",
        "      if variables_categoricas:\n",
        "          num_categorical_vars = len(self.data[variables_categoricas].columns)\n",
        "          cramer_matrix = np.zeros((num_categorical_vars, num_categorical_vars))\n",
        "\n",
        "          for i in range(num_categorical_vars):\n",
        "              for j in range(num_categorical_vars):\n",
        "                  contingency_matrix = pd.crosstab(self.data[variables_categoricas].iloc[:, i], self.data[variables_categoricas].iloc[:, j])\n",
        "                  cramers_v = association(contingency_matrix)\n",
        "                  cramer_matrix[i, j] = cramers_v\n",
        "          plt.figure(figsize=(10, 8))\n",
        "          sns.heatmap(cramer_matrix, annot=True, xticklabels=self.data[variables_categoricas].columns, yticklabels=self.data[variables_categoricas].columns, cmap='viridis')\n",
        "          plt.title('Matriz de Cramer de Variables Categóricas')\n",
        "          plt.savefig(f\"{subfolder_path}/Cramer_matrix_categorical.pdf\", format='pdf')\n",
        "          plt.show()\n",
        "      # Grafica top_n para cada categoria\n",
        "      for var in variables_categoricas:\n",
        "          top_n = self.data[var].value_counts().head(n)\n",
        "          fig = px.bar(top_n, x=top_n.index, y=top_n.values)\n",
        "          fig.update_layout(title=f'Histograma de las Top {n} categorías de {var}')\n",
        "          fig.show()\n",
        "          fig.write_image(f\"{subfolder_path}/{var}.pdf\")\n",
        "\n",
        "      return\n",
        "\n",
        "    def clean_data(self,lista_variables,nulos,no_atomicas):\n",
        "      #Se crea carpeta en directorio de trabajo con el nombre EDA_fecha\n",
        "      subfolder_path = os.path.join(self.folder_name, 'clean_data')\n",
        "      if not os.path.exists(subfolder_path):\n",
        "          os.makedirs(subfolder_path)  # Crea la carpeta dentro de EDA_fecha\n",
        "\n",
        "      dataset = self.data[lista_variables]\n",
        "\n",
        "      #separa en columnas distintas los datos no atomicos\n",
        "      for col in no_atomicas:\n",
        "              # Crear un transformador utilizando FunctionTransformer\n",
        "              transformer = FunctionTransformer(func=split_column, validate=False)\n",
        "\n",
        "              # Aplicar el transformador a la columna\n",
        "              nuevo_df = transformer.transform(dataset[col])\n",
        "\n",
        "              # Combinar el DataFrame resultante con el DataFrame original\n",
        "              data = pd.concat([dataset, nuevo_df], axis=1)\n",
        "              del data[col]\n",
        "\n",
        "      #dropeamos las columnas duplicadas\n",
        "      sin_dup = data.drop_duplicates()\n",
        "\n",
        "      #crear un duplicado del dataset\n",
        "      sin_null = sin_dup\n",
        "\n",
        "      #separamos las columnas numéricas de las no numéricas para hacer el tratamiento de nulos\n",
        "      columnas_numericas = sin_null.select_dtypes(include=['number']).columns\n",
        "      columnas_no_numericas = sin_null.select_dtypes(exclude=['number']).columns\n",
        "\n",
        "      if nulos == 'drop':\n",
        "\n",
        "        sin_null = sin_null.dropna(subset=columnas_numericas,how='any')\n",
        "\n",
        "        for columna in columnas_no_numericas:\n",
        "          sin_null[columna].fillna(\"1\", inplace=True)\n",
        "          sin_null[columna].dropna(inplace=True)\n",
        "          sin_null[columna]=sin_null[columna].replace(\"1\", None)\n",
        "\n",
        "      elif nulos == 'imputar':\n",
        "\n",
        "        # Reemplazamos los valores nulos de las columnas numéricas con el promedio de la columna\n",
        "        for columna in columnas_numericas:\n",
        "            media = sin_null[columna].mean()\n",
        "            sin_null[columna].fillna(media, inplace=True)\n",
        "\n",
        "        # Se reemplazan los valores nulos de las columnas no numéricas con la moda de la columna\n",
        "        for columna in columnas_no_numericas:\n",
        "          print(columna)\n",
        "          sin_null[columna].fillna(\"1\", inplace=True)\n",
        "          moda = sin_null[columna].mode()\n",
        "          sin_null[columna].fillna(moda, inplace=True)\n",
        "          sin_null[columna]=sin_null[columna].replace(\"1\", None)\n",
        "\n",
        "      #--------------------------------------------------------------------\n",
        "      sin_null = sin_null.reset_index(drop=True)\n",
        "      path = f\"EDA_{self.date}\"+ \"/clean_data/data.csv\"\n",
        "      sin_null.to_csv(path, index=False)\n",
        "      return sin_null\n",
        "\n",
        "\n",
        "    def scale(self,nulos):\n",
        "      #Se crea carpeta en directorio de trabajo con el nombre EDA_fecha\n",
        "      subfolder_path = os.path.join(self.folder_name, 'scale')\n",
        "      if not os.path.exists(subfolder_path):\n",
        "          os.makedirs(subfolder_path)  # Crea la carpeta dentro de EDA_fecha\n",
        "\n",
        "\n",
        "      df = self.clean_data(self.data.columns,nulos,no_atomicas=['age-height-weight'])\n",
        "      variables_categoricas = df.select_dtypes(include=['object']).columns\n",
        "      variables_numericas = df.select_dtypes(include=['number']).columns\n",
        "\n",
        "      # Define un ColumnTransformer que aplica el escalado logarítmico y MinMaxScaler a las variables numéricas\n",
        "      preprocessor = ColumnTransformer(\n",
        "          transformers=[\n",
        "              ('log_minmax', Pipeline([('log_transform', FunctionTransformer(func=np.log1p, validate=True)),\n",
        "              ('minmax_scale', MinMaxScaler())]), variables_numericas),  # Aplica logaritmo a las columnas numéricas\n",
        "              ('onehot', OneHotEncoder(), variables_categoricas)\n",
        "          ],\n",
        "          remainder='passthrough',sparse_threshold=1  # Deja las columnas no especificadas sin cambios (si las hay)\n",
        "      )\n",
        "\n",
        "      # Aplica el ColumnTransformer a las columnas numéricas\n",
        "      df_transformed = preprocessor.fit_transform(df)\n",
        "      df_transformed = df_transformed.toarray()\n",
        "\n",
        "      print(preprocessor)\n",
        "      df_transformed = pd.DataFrame(df_transformed)\n",
        "\n",
        "      path = f\"EDA_{self.date}\"+ \"/scale/scaled_features.csv\"\n",
        "      df_transformed.to_csv(path, index=False)\n",
        "\n",
        "      return preprocessor\n",
        "\n",
        "    def reduction(self,nulos):\n",
        "      df = self.clean_data(self.data.columns,nulos,no_atomicas=['age-height-weight'])\n",
        "      preprocessor = self.scale(nulos)\n",
        "      pipeline = Pipeline([\n",
        "          ('preprocessor', preprocessor),\n",
        "          ('tsne', TSNE(n_components=2, random_state=42,init=\"random\"))\n",
        "      ])\n",
        "\n",
        "      reduced_data = pipeline.fit_transform(df)\n",
        "      return reduced_data\n",
        "\n",
        "    def metodo_codo(self,nulos):\n",
        "\n",
        "      df = self.clean_data(self.data.columns,nulos,no_atomicas=['age-height-weight'])\n",
        "      preprocessor = self.scale(nulos)\n",
        "\n",
        "      inercias_array=[]\n",
        "      for k in range(1,15):\n",
        "            pipeline_kmeans = Pipeline([\n",
        "                ('preprocessor', preprocessor),\n",
        "                ('kmeans', KMeans(n_clusters=k))\n",
        "            ])\n",
        "            pipeline_kmeans.fit(df)\n",
        "            inercias_array.append(pipeline_kmeans['kmeans'].inertia_)\n",
        "\n",
        "      #calcular las pendientes de las inercias\n",
        "\n",
        "\n",
        "      # Aplicar la \"Regla del Codo\" para encontrar el número óptimo de clusters\n",
        "      x = np.array(range(1, 15))\n",
        "      #normalizar vectores\n",
        "      x = (x - np.min(x)) / (np.max(x) - np.min(x))\n",
        "      inercias_array = (inercias_array - np.min(inercias_array)) / (np.max(inercias_array) - np.min(inercias_array))\n",
        "      #aplicar la regla del codo\n",
        "      a = x**2 + inercias_array**2\n",
        "      b = (x - 1)**2 + (inercias_array - 1)**2\n",
        "      c = inercias_array**2\n",
        "      f = b / (a + c)\n",
        "      optimo = np.argmax(f)  # Sumamos 1 porque los índices en Python comienzan en 0\n",
        "\n",
        "      plt.figure(figsize=(14,6))\n",
        "      plt.plot(range(1, 15), inercias_array, marker='o', linestyle='-', color='b')\n",
        "      plt.title('Método del Codo')\n",
        "      plt.xlabel('Número de Clusters')\n",
        "      plt.ylabel('Inercia')\n",
        "      plt.grid(True)\n",
        "      plt.show()\n",
        "      return optimo\n",
        "\n",
        "    def make_clusters(self,nulos):\n",
        "      subfolder_path = os.path.join(self.folder_name, 'clusters')\n",
        "      if not os.path.exists(subfolder_path):\n",
        "          os.makedirs(subfolder_path)\n",
        "      df = self.clean_data(self.data.columns,nulos,no_atomicas=['age-height-weight'])\n",
        "      reduced_data=self.reduction(nulos)\n",
        "      preprocessor = self.scale(nulos)\n",
        "      clusters_op = self.metodo_codo(nulos)\n",
        "\n",
        "      pipeline = Pipeline([\n",
        "          ('preprocessor', preprocessor),\n",
        "          ('kmeans', KMeans(n_clusters=clusters_op)) ## para incluir \"dbscan\" habria que hacer un mapeo\n",
        "      ])\n",
        "\n",
        "      pipeline.fit_transform(df)\n",
        "      cluster_labels = pipeline.named_steps['kmeans'].labels_\n",
        "\n",
        "      data_with_clusters = df.copy()\n",
        "      data_with_clusters['cluster'] = cluster_labels\n",
        "      cluster_data_path = os.path.join(subfolder_path, 'data_clusters.csv')\n",
        "      data_with_clusters.to_csv(cluster_data_path, index=False)\n",
        "\n",
        "\n",
        "      # Crea un DataFrame con los datos reducidos\n",
        "      reduced_df = pd.DataFrame(data=reduced_data, columns=['Dimension 1', 'Dimension 2'])\n",
        "      reduced_df['Cluster'] = cluster_labels  # Agrega las etiquetas de los clusters\n",
        "\n",
        "      # Grafica los datos en un scatterplot con colores según el cluster\n",
        "      plt.figure(figsize=(10, 8))\n",
        "      sns.scatterplot(x='Dimension 1', y='Dimension 2', data=reduced_df, hue='Cluster', palette='viridis')\n",
        "      plt.title('Clusteres sobre reducción de Dimensionalidad con t-SNE')\n",
        "      plt.savefig(f\"{subfolder_path}/Clusters.pdf\", format='pdf')\n",
        "      plt.show()\n",
        "\n",
        "      return cluster_labels\n",
        "\n",
        "    def detect_anomalies(self,nulos):\n",
        "      #Se crea carpeta en directorio de trabajo con el nombre EDA_fecha\n",
        "      subfolder_path = os.path.join(self.folder_name, 'anomalies')\n",
        "      if not os.path.exists(subfolder_path):\n",
        "          os.makedirs(subfolder_path)  # Crea la carpeta dentro de EDA_fecha\n",
        "\n",
        "      df = self.clean_data(self.data.columns,nulos,no_atomicas=['age-height-weight'])\n",
        "      reduced_data=self.reduction(nulos)\n",
        "      preprocessor = self.scale(nulos)\n",
        "      pipeline = Pipeline([\n",
        "          ('preprocessor', preprocessor),\n",
        "          ('anomalies', IsolationForest(n_estimators=100, contamination=0.05, random_state=42))\n",
        "      ])\n",
        "\n",
        "      pipeline.fit(df)\n",
        "      anomalies_labels = pipeline.named_steps['anomalies'].predict(pipeline.named_steps['preprocessor'].transform(df)) #devuelve 1 para muestras que no son anomalías y -1 para muestras que se consideran anomalías\n",
        "\n",
        "      data_with_anomalies = df.copy()\n",
        "      data_with_anomalies['anomalies'] = anomalies_labels\n",
        "      anomalies_data_path = os.path.join(subfolder_path, 'data_anomalies.csv')\n",
        "      data_with_anomalies.to_csv(anomalies_data_path, index=False)\n",
        "\n",
        "      # Crea un DataFrame con los datos reducidos\n",
        "      reduced_df = pd.DataFrame(data=reduced_data, columns=['Dimension 1', 'Dimension 2'])\n",
        "      reduced_df['anomalies_labels'] = anomalies_labels  # Agrega las etiquetas de las anomalías\n",
        "      reduced_df['anomalies_labels'] = reduced_df['anomalies_labels'].replace({1: 'No anomalía', -1: 'Anomalía'})\n",
        "\n",
        "      # Grafica los datos en un scatterplot con colores según el cluster\n",
        "      plt.figure(figsize=(10, 8))\n",
        "      sns.scatterplot(x='Dimension 1', y='Dimension 2', data=reduced_df, hue='anomalies_labels', palette='viridis')\n",
        "      plt.title('Anomalias sobre reducción de Dimensionalidad con t-SNE')\n",
        "      plt.savefig(f\"{subfolder_path}/Anomalies.pdf\", format='pdf')\n",
        "      plt.show()\n",
        "\n",
        "      return anomalies_labels\n",
        "\n",
        "\n",
        "    def profile(self,variable_nombre,n, nulos, no_atomicas):\n",
        "      self.summarize(variable_nombre)\n",
        "      self.plot_vars(variable_nombre,n)\n",
        "      self.scale(nulos)\n",
        "      self.clean_data(variable_nombre,nulos,no_atomicas)\n",
        "      self.make_clusters(nulos)\n",
        "      self.detect_anomalies(nulos)\n",
        "      ## Rellenar\n",
        "\n",
        "    def clearGarbage(self):\n",
        "        if self.folder_name:\n",
        "            try:\n",
        "                shutil.rmtree(self.folder_name)  # Elimina la carpeta y su contenido\n",
        "            except FileNotFoundError:\n",
        "                pass  # Si no existe la carpeta, no se produce un error\n",
        "\n",
        "\n",
        "\n",
        "\n"
      ]
    },
    {
      "cell_type": "code",
      "execution_count": 5,
      "metadata": {
        "id": "zvpO93jjY2-9"
      },
      "outputs": [],
      "source": [
        "df1=df.iloc[:1000]\n",
        "prueba= Profiler(df1)\n"
      ]
    },
    {
      "cell_type": "code",
      "execution_count": 6,
      "metadata": {
        "colab": {
          "base_uri": "https://localhost:8080/",
          "height": 1000
        },
        "id": "rAInW-__Y-1K",
        "outputId": "84587b14-fcee-4f2d-e5ef-325bf856e1c5"
      },
      "outputs": [
        {
          "data": {
            "application/vnd.plotly.v1+json": {
              "config": {
                "plotlyServerURL": "https://plot.ly"
              },
              "data": [
                {
                  "coloraxis": "coloraxis",
                  "hovertemplate": "x: %{x}<br>y: %{y}<br>color: %{z}<extra></extra>",
                  "name": "0",
                  "type": "heatmap",
                  "x": [
                    "ID",
                    "Year"
                  ],
                  "xaxis": "x",
                  "y": [
                    "ID",
                    "Year"
                  ],
                  "yaxis": "y",
                  "z": [
                    [
                      1,
                      0.07232267908675258
                    ],
                    [
                      0.07232267908675258,
                      1
                    ]
                  ]
                }
              ],
              "layout": {
                "coloraxis": {
                  "colorscale": [
                    [
                      0,
                      "#0d0887"
                    ],
                    [
                      0.1111111111111111,
                      "#46039f"
                    ],
                    [
                      0.2222222222222222,
                      "#7201a8"
                    ],
                    [
                      0.3333333333333333,
                      "#9c179e"
                    ],
                    [
                      0.4444444444444444,
                      "#bd3786"
                    ],
                    [
                      0.5555555555555556,
                      "#d8576b"
                    ],
                    [
                      0.6666666666666666,
                      "#ed7953"
                    ],
                    [
                      0.7777777777777778,
                      "#fb9f3a"
                    ],
                    [
                      0.8888888888888888,
                      "#fdca26"
                    ],
                    [
                      1,
                      "#f0f921"
                    ]
                  ]
                },
                "margin": {
                  "t": 60
                },
                "template": {
                  "data": {
                    "bar": [
                      {
                        "error_x": {
                          "color": "#2a3f5f"
                        },
                        "error_y": {
                          "color": "#2a3f5f"
                        },
                        "marker": {
                          "line": {
                            "color": "#E5ECF6",
                            "width": 0.5
                          },
                          "pattern": {
                            "fillmode": "overlay",
                            "size": 10,
                            "solidity": 0.2
                          }
                        },
                        "type": "bar"
                      }
                    ],
                    "barpolar": [
                      {
                        "marker": {
                          "line": {
                            "color": "#E5ECF6",
                            "width": 0.5
                          },
                          "pattern": {
                            "fillmode": "overlay",
                            "size": 10,
                            "solidity": 0.2
                          }
                        },
                        "type": "barpolar"
                      }
                    ],
                    "carpet": [
                      {
                        "aaxis": {
                          "endlinecolor": "#2a3f5f",
                          "gridcolor": "white",
                          "linecolor": "white",
                          "minorgridcolor": "white",
                          "startlinecolor": "#2a3f5f"
                        },
                        "baxis": {
                          "endlinecolor": "#2a3f5f",
                          "gridcolor": "white",
                          "linecolor": "white",
                          "minorgridcolor": "white",
                          "startlinecolor": "#2a3f5f"
                        },
                        "type": "carpet"
                      }
                    ],
                    "choropleth": [
                      {
                        "colorbar": {
                          "outlinewidth": 0,
                          "ticks": ""
                        },
                        "type": "choropleth"
                      }
                    ],
                    "contour": [
                      {
                        "colorbar": {
                          "outlinewidth": 0,
                          "ticks": ""
                        },
                        "colorscale": [
                          [
                            0,
                            "#0d0887"
                          ],
                          [
                            0.1111111111111111,
                            "#46039f"
                          ],
                          [
                            0.2222222222222222,
                            "#7201a8"
                          ],
                          [
                            0.3333333333333333,
                            "#9c179e"
                          ],
                          [
                            0.4444444444444444,
                            "#bd3786"
                          ],
                          [
                            0.5555555555555556,
                            "#d8576b"
                          ],
                          [
                            0.6666666666666666,
                            "#ed7953"
                          ],
                          [
                            0.7777777777777778,
                            "#fb9f3a"
                          ],
                          [
                            0.8888888888888888,
                            "#fdca26"
                          ],
                          [
                            1,
                            "#f0f921"
                          ]
                        ],
                        "type": "contour"
                      }
                    ],
                    "contourcarpet": [
                      {
                        "colorbar": {
                          "outlinewidth": 0,
                          "ticks": ""
                        },
                        "type": "contourcarpet"
                      }
                    ],
                    "heatmap": [
                      {
                        "colorbar": {
                          "outlinewidth": 0,
                          "ticks": ""
                        },
                        "colorscale": [
                          [
                            0,
                            "#0d0887"
                          ],
                          [
                            0.1111111111111111,
                            "#46039f"
                          ],
                          [
                            0.2222222222222222,
                            "#7201a8"
                          ],
                          [
                            0.3333333333333333,
                            "#9c179e"
                          ],
                          [
                            0.4444444444444444,
                            "#bd3786"
                          ],
                          [
                            0.5555555555555556,
                            "#d8576b"
                          ],
                          [
                            0.6666666666666666,
                            "#ed7953"
                          ],
                          [
                            0.7777777777777778,
                            "#fb9f3a"
                          ],
                          [
                            0.8888888888888888,
                            "#fdca26"
                          ],
                          [
                            1,
                            "#f0f921"
                          ]
                        ],
                        "type": "heatmap"
                      }
                    ],
                    "heatmapgl": [
                      {
                        "colorbar": {
                          "outlinewidth": 0,
                          "ticks": ""
                        },
                        "colorscale": [
                          [
                            0,
                            "#0d0887"
                          ],
                          [
                            0.1111111111111111,
                            "#46039f"
                          ],
                          [
                            0.2222222222222222,
                            "#7201a8"
                          ],
                          [
                            0.3333333333333333,
                            "#9c179e"
                          ],
                          [
                            0.4444444444444444,
                            "#bd3786"
                          ],
                          [
                            0.5555555555555556,
                            "#d8576b"
                          ],
                          [
                            0.6666666666666666,
                            "#ed7953"
                          ],
                          [
                            0.7777777777777778,
                            "#fb9f3a"
                          ],
                          [
                            0.8888888888888888,
                            "#fdca26"
                          ],
                          [
                            1,
                            "#f0f921"
                          ]
                        ],
                        "type": "heatmapgl"
                      }
                    ],
                    "histogram": [
                      {
                        "marker": {
                          "pattern": {
                            "fillmode": "overlay",
                            "size": 10,
                            "solidity": 0.2
                          }
                        },
                        "type": "histogram"
                      }
                    ],
                    "histogram2d": [
                      {
                        "colorbar": {
                          "outlinewidth": 0,
                          "ticks": ""
                        },
                        "colorscale": [
                          [
                            0,
                            "#0d0887"
                          ],
                          [
                            0.1111111111111111,
                            "#46039f"
                          ],
                          [
                            0.2222222222222222,
                            "#7201a8"
                          ],
                          [
                            0.3333333333333333,
                            "#9c179e"
                          ],
                          [
                            0.4444444444444444,
                            "#bd3786"
                          ],
                          [
                            0.5555555555555556,
                            "#d8576b"
                          ],
                          [
                            0.6666666666666666,
                            "#ed7953"
                          ],
                          [
                            0.7777777777777778,
                            "#fb9f3a"
                          ],
                          [
                            0.8888888888888888,
                            "#fdca26"
                          ],
                          [
                            1,
                            "#f0f921"
                          ]
                        ],
                        "type": "histogram2d"
                      }
                    ],
                    "histogram2dcontour": [
                      {
                        "colorbar": {
                          "outlinewidth": 0,
                          "ticks": ""
                        },
                        "colorscale": [
                          [
                            0,
                            "#0d0887"
                          ],
                          [
                            0.1111111111111111,
                            "#46039f"
                          ],
                          [
                            0.2222222222222222,
                            "#7201a8"
                          ],
                          [
                            0.3333333333333333,
                            "#9c179e"
                          ],
                          [
                            0.4444444444444444,
                            "#bd3786"
                          ],
                          [
                            0.5555555555555556,
                            "#d8576b"
                          ],
                          [
                            0.6666666666666666,
                            "#ed7953"
                          ],
                          [
                            0.7777777777777778,
                            "#fb9f3a"
                          ],
                          [
                            0.8888888888888888,
                            "#fdca26"
                          ],
                          [
                            1,
                            "#f0f921"
                          ]
                        ],
                        "type": "histogram2dcontour"
                      }
                    ],
                    "mesh3d": [
                      {
                        "colorbar": {
                          "outlinewidth": 0,
                          "ticks": ""
                        },
                        "type": "mesh3d"
                      }
                    ],
                    "parcoords": [
                      {
                        "line": {
                          "colorbar": {
                            "outlinewidth": 0,
                            "ticks": ""
                          }
                        },
                        "type": "parcoords"
                      }
                    ],
                    "pie": [
                      {
                        "automargin": true,
                        "type": "pie"
                      }
                    ],
                    "scatter": [
                      {
                        "fillpattern": {
                          "fillmode": "overlay",
                          "size": 10,
                          "solidity": 0.2
                        },
                        "type": "scatter"
                      }
                    ],
                    "scatter3d": [
                      {
                        "line": {
                          "colorbar": {
                            "outlinewidth": 0,
                            "ticks": ""
                          }
                        },
                        "marker": {
                          "colorbar": {
                            "outlinewidth": 0,
                            "ticks": ""
                          }
                        },
                        "type": "scatter3d"
                      }
                    ],
                    "scattercarpet": [
                      {
                        "marker": {
                          "colorbar": {
                            "outlinewidth": 0,
                            "ticks": ""
                          }
                        },
                        "type": "scattercarpet"
                      }
                    ],
                    "scattergeo": [
                      {
                        "marker": {
                          "colorbar": {
                            "outlinewidth": 0,
                            "ticks": ""
                          }
                        },
                        "type": "scattergeo"
                      }
                    ],
                    "scattergl": [
                      {
                        "marker": {
                          "colorbar": {
                            "outlinewidth": 0,
                            "ticks": ""
                          }
                        },
                        "type": "scattergl"
                      }
                    ],
                    "scattermapbox": [
                      {
                        "marker": {
                          "colorbar": {
                            "outlinewidth": 0,
                            "ticks": ""
                          }
                        },
                        "type": "scattermapbox"
                      }
                    ],
                    "scatterpolar": [
                      {
                        "marker": {
                          "colorbar": {
                            "outlinewidth": 0,
                            "ticks": ""
                          }
                        },
                        "type": "scatterpolar"
                      }
                    ],
                    "scatterpolargl": [
                      {
                        "marker": {
                          "colorbar": {
                            "outlinewidth": 0,
                            "ticks": ""
                          }
                        },
                        "type": "scatterpolargl"
                      }
                    ],
                    "scatterternary": [
                      {
                        "marker": {
                          "colorbar": {
                            "outlinewidth": 0,
                            "ticks": ""
                          }
                        },
                        "type": "scatterternary"
                      }
                    ],
                    "surface": [
                      {
                        "colorbar": {
                          "outlinewidth": 0,
                          "ticks": ""
                        },
                        "colorscale": [
                          [
                            0,
                            "#0d0887"
                          ],
                          [
                            0.1111111111111111,
                            "#46039f"
                          ],
                          [
                            0.2222222222222222,
                            "#7201a8"
                          ],
                          [
                            0.3333333333333333,
                            "#9c179e"
                          ],
                          [
                            0.4444444444444444,
                            "#bd3786"
                          ],
                          [
                            0.5555555555555556,
                            "#d8576b"
                          ],
                          [
                            0.6666666666666666,
                            "#ed7953"
                          ],
                          [
                            0.7777777777777778,
                            "#fb9f3a"
                          ],
                          [
                            0.8888888888888888,
                            "#fdca26"
                          ],
                          [
                            1,
                            "#f0f921"
                          ]
                        ],
                        "type": "surface"
                      }
                    ],
                    "table": [
                      {
                        "cells": {
                          "fill": {
                            "color": "#EBF0F8"
                          },
                          "line": {
                            "color": "white"
                          }
                        },
                        "header": {
                          "fill": {
                            "color": "#C8D4E3"
                          },
                          "line": {
                            "color": "white"
                          }
                        },
                        "type": "table"
                      }
                    ]
                  },
                  "layout": {
                    "annotationdefaults": {
                      "arrowcolor": "#2a3f5f",
                      "arrowhead": 0,
                      "arrowwidth": 1
                    },
                    "autotypenumbers": "strict",
                    "coloraxis": {
                      "colorbar": {
                        "outlinewidth": 0,
                        "ticks": ""
                      }
                    },
                    "colorscale": {
                      "diverging": [
                        [
                          0,
                          "#8e0152"
                        ],
                        [
                          0.1,
                          "#c51b7d"
                        ],
                        [
                          0.2,
                          "#de77ae"
                        ],
                        [
                          0.3,
                          "#f1b6da"
                        ],
                        [
                          0.4,
                          "#fde0ef"
                        ],
                        [
                          0.5,
                          "#f7f7f7"
                        ],
                        [
                          0.6,
                          "#e6f5d0"
                        ],
                        [
                          0.7,
                          "#b8e186"
                        ],
                        [
                          0.8,
                          "#7fbc41"
                        ],
                        [
                          0.9,
                          "#4d9221"
                        ],
                        [
                          1,
                          "#276419"
                        ]
                      ],
                      "sequential": [
                        [
                          0,
                          "#0d0887"
                        ],
                        [
                          0.1111111111111111,
                          "#46039f"
                        ],
                        [
                          0.2222222222222222,
                          "#7201a8"
                        ],
                        [
                          0.3333333333333333,
                          "#9c179e"
                        ],
                        [
                          0.4444444444444444,
                          "#bd3786"
                        ],
                        [
                          0.5555555555555556,
                          "#d8576b"
                        ],
                        [
                          0.6666666666666666,
                          "#ed7953"
                        ],
                        [
                          0.7777777777777778,
                          "#fb9f3a"
                        ],
                        [
                          0.8888888888888888,
                          "#fdca26"
                        ],
                        [
                          1,
                          "#f0f921"
                        ]
                      ],
                      "sequentialminus": [
                        [
                          0,
                          "#0d0887"
                        ],
                        [
                          0.1111111111111111,
                          "#46039f"
                        ],
                        [
                          0.2222222222222222,
                          "#7201a8"
                        ],
                        [
                          0.3333333333333333,
                          "#9c179e"
                        ],
                        [
                          0.4444444444444444,
                          "#bd3786"
                        ],
                        [
                          0.5555555555555556,
                          "#d8576b"
                        ],
                        [
                          0.6666666666666666,
                          "#ed7953"
                        ],
                        [
                          0.7777777777777778,
                          "#fb9f3a"
                        ],
                        [
                          0.8888888888888888,
                          "#fdca26"
                        ],
                        [
                          1,
                          "#f0f921"
                        ]
                      ]
                    },
                    "colorway": [
                      "#636efa",
                      "#EF553B",
                      "#00cc96",
                      "#ab63fa",
                      "#FFA15A",
                      "#19d3f3",
                      "#FF6692",
                      "#B6E880",
                      "#FF97FF",
                      "#FECB52"
                    ],
                    "font": {
                      "color": "#2a3f5f"
                    },
                    "geo": {
                      "bgcolor": "white",
                      "lakecolor": "white",
                      "landcolor": "#E5ECF6",
                      "showlakes": true,
                      "showland": true,
                      "subunitcolor": "white"
                    },
                    "hoverlabel": {
                      "align": "left"
                    },
                    "hovermode": "closest",
                    "mapbox": {
                      "style": "light"
                    },
                    "paper_bgcolor": "white",
                    "plot_bgcolor": "#E5ECF6",
                    "polar": {
                      "angularaxis": {
                        "gridcolor": "white",
                        "linecolor": "white",
                        "ticks": ""
                      },
                      "bgcolor": "#E5ECF6",
                      "radialaxis": {
                        "gridcolor": "white",
                        "linecolor": "white",
                        "ticks": ""
                      }
                    },
                    "scene": {
                      "xaxis": {
                        "backgroundcolor": "#E5ECF6",
                        "gridcolor": "white",
                        "gridwidth": 2,
                        "linecolor": "white",
                        "showbackground": true,
                        "ticks": "",
                        "zerolinecolor": "white"
                      },
                      "yaxis": {
                        "backgroundcolor": "#E5ECF6",
                        "gridcolor": "white",
                        "gridwidth": 2,
                        "linecolor": "white",
                        "showbackground": true,
                        "ticks": "",
                        "zerolinecolor": "white"
                      },
                      "zaxis": {
                        "backgroundcolor": "#E5ECF6",
                        "gridcolor": "white",
                        "gridwidth": 2,
                        "linecolor": "white",
                        "showbackground": true,
                        "ticks": "",
                        "zerolinecolor": "white"
                      }
                    },
                    "shapedefaults": {
                      "line": {
                        "color": "#2a3f5f"
                      }
                    },
                    "ternary": {
                      "aaxis": {
                        "gridcolor": "white",
                        "linecolor": "white",
                        "ticks": ""
                      },
                      "baxis": {
                        "gridcolor": "white",
                        "linecolor": "white",
                        "ticks": ""
                      },
                      "bgcolor": "#E5ECF6",
                      "caxis": {
                        "gridcolor": "white",
                        "linecolor": "white",
                        "ticks": ""
                      }
                    },
                    "title": {
                      "x": 0.05
                    },
                    "xaxis": {
                      "automargin": true,
                      "gridcolor": "white",
                      "linecolor": "white",
                      "ticks": "",
                      "title": {
                        "standoff": 15
                      },
                      "zerolinecolor": "white",
                      "zerolinewidth": 2
                    },
                    "yaxis": {
                      "automargin": true,
                      "gridcolor": "white",
                      "linecolor": "white",
                      "ticks": "",
                      "title": {
                        "standoff": 15
                      },
                      "zerolinecolor": "white",
                      "zerolinewidth": 2
                    }
                  }
                },
                "title": {
                  "text": "Matriz de Correlación de Variables Numéricas"
                },
                "xaxis": {
                  "anchor": "y",
                  "constrain": "domain",
                  "domain": [
                    0,
                    1
                  ],
                  "scaleanchor": "y"
                },
                "yaxis": {
                  "anchor": "x",
                  "autorange": "reversed",
                  "constrain": "domain",
                  "domain": [
                    0,
                    1
                  ]
                }
              }
            }
          },
          "metadata": {},
          "output_type": "display_data"
        }
      ],
      "source": [
        "prueba.profile(df1.columns,10, nulos='drop',no_atomicas=['age-height-weight'])\n"
      ]
    },
    {
      "cell_type": "code",
      "execution_count": null,
      "metadata": {
        "id": "fIAlmy8LJBZS"
      },
      "outputs": [],
      "source": [
        "prueba.clearGarbage()"
      ]
    },
    {
      "cell_type": "markdown",
      "metadata": {
        "id": "Mb6nekOdS_Kw"
      },
      "source": [
        "## 1.2 Caracterizar datos de Olimpiadas (2.0 puntos)\n",
        "\n",
        "A partir de la clase que hemos desarrollado previamente, procederemos a realizar un análisis exhaustivo de los datos proporcionados en el enunciado. Este análisis se presentará en forma de un informe contenido en el mismo Jupyter Notebook y abordará los siguientes puntos:\n",
        "\n",
        "1. Introducción\n",
        "    - Se proporcionará una breve descripción del problema que estamos abordando y se explicará la metodología que se seguirá.\n",
        "\n",
        "Elaborar una breve introducción con todo lo necesario para entender qué realizarán durante su proyecto. La idea es que describan de manera formal el proyecto con sus propias palabras y logren describir algunos aspectos básicos tanto del dataset como del análisis a realizar sobre los datos.\n",
        "\n",
        "Por lo anterior, en esta sección ustedes deberán ser capaces de:\n",
        "\n",
        "- Describir la tarea asociada al dataset.\n",
        "- Describir brevemente los datos de entrada que les provee el problema.\n",
        "- Plantear hipótesis de cómo podrían abordar el problema.\n",
        "\n",
        "2. Análisis del EDA (Análisis Exploratorio de Datos)\n",
        "    - Se discutirán las observaciones y conclusiones obtenidas acerca de los datos proporcionados. A lo largo de su respuesta, debe responder preguntas como:\n",
        "        - ¿Como se comportan las variables numéricas? ¿y las categóricas?\n",
        "        - ¿Existen valores nulos en el dataset? ¿En qué columnas? ¿Cuantos?\n",
        "        - ¿Cuáles son las categorías y frecuencias de las variables categóricas?\n",
        "        - ¿Existen datos duplicados en el conjunto?\n",
        "        - ¿Existen relaciones o patrones visuales entre las variables?\n",
        "        - ¿Existen anomalías notables o preocupantes en los datos?\n",
        "3. Creación de Clusters y Anomalías\n",
        "    - Se justificará la elección de los algoritmos a utilizar y sus hiperparámetros. En el caso de clustering, justifique además el número de clusters.\n",
        "    \n",
        "4. Análisis de Resultados\n",
        "    - Se examinarán los resultados obtenidos a partir de los clústers y anomalías generadas. ¿Se logra una separación efectiva de los datos? Entregue una interpretación de lo que representa cada clúster y anomalía.\n",
        "5. Conclusión\n",
        "    - Se resumirán las principales conclusiones del análisis y se destacarán las implicaciones prácticas de los resultados obtenidos."
      ]
    },
    {
      "cell_type": "markdown",
      "metadata": {
        "id": "SSN2cJcpS_Kw"
      },
      "source": [
        "##**Introducción**\n",
        "\n",
        "\n",
        "\n"
      ]
    }
  ],
  "metadata": {
    "colab": {
      "provenance": []
    },
    "kernelspec": {
      "display_name": "Python 3 (ipykernel)",
      "language": "python",
      "name": "python3"
    },
    "language_info": {
      "codemirror_mode": {
        "name": "ipython",
        "version": 3
      },
      "file_extension": ".py",
      "mimetype": "text/x-python",
      "name": "python",
      "nbconvert_exporter": "python",
      "pygments_lexer": "ipython3",
      "version": "3.11.6"
    }
  },
  "nbformat": 4,
  "nbformat_minor": 0
}
